{
  "nbformat": 4,
  "nbformat_minor": 0,
  "metadata": {
    "colab": {
      "name": "constant.ipynb",
      "provenance": [],
      "authorship_tag": "ABX9TyO0QiDRo9EBM+o/NOrIMuDV",
      "include_colab_link": true
    },
    "kernelspec": {
      "name": "python3",
      "display_name": "Python 3"
    },
    "language_info": {
      "name": "python"
    }
  },
  "cells": [
    {
      "cell_type": "markdown",
      "metadata": {
        "id": "view-in-github",
        "colab_type": "text"
      },
      "source": [
        "<a href=\"https://colab.research.google.com/github/reggy0/chat_bot/blob/main/constant.ipynb\" target=\"_parent\"><img src=\"https://colab.research.google.com/assets/colab-badge.svg\" alt=\"Open In Colab\"/></a>"
      ]
    },
    {
      "cell_type": "code",
      "execution_count": null,
      "metadata": {
        "id": "1Wn1dm0lqxAl"
      },
      "outputs": [],
      "source": [
        "FIRST_QUESTIONS = {\n",
        "    \"en\": \"Hi, how are you?\",\n",
        "    \"de\": \"Hallo, wie geht es dir?\",\n",
        "    \"pt-br\": \"Oi como você está?\",\n",
        "    \"he\": \"היי מה קורה?\",\n",
        "}\n",
        "TERMINATES = {\n",
        "    \"en\": \"quit\",\n",
        "    \"de\": \"ende\",\n",
        "    \"pt-br\": \"sair\",\n",
        "    \"he\": \"זהו\"\n",
        "}\n",
        "\n",
        "LANGUAGE_SUPPORT = [\"en\", \"de\", \"pt-br\", \"he\"]"
      ]
    }
  ]
}