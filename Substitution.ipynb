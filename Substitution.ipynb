{
  "nbformat": 4,
  "nbformat_minor": 0,
  "metadata": {
    "colab": {
      "name": "Substitution.ipynb",
      "provenance": [],
      "authorship_tag": "ABX9TyPVIYwzq6eQMjFZsYM+QRBd",
      "include_colab_link": true
    },
    "kernelspec": {
      "name": "python3",
      "display_name": "Python 3"
    },
    "language_info": {
      "name": "python"
    }
  },
  "cells": [
    {
      "cell_type": "markdown",
      "metadata": {
        "id": "view-in-github",
        "colab_type": "text"
      },
      "source": [
        "<a href=\"https://colab.research.google.com/github/reggy0/chat_bot/blob/main/Substitution.ipynb\" target=\"_parent\"><img src=\"https://colab.research.google.com/assets/colab-badge.svg\" alt=\"Open In Colab\"/></a>"
      ]
    },
    {
      "cell_type": "code",
      "execution_count": null,
      "metadata": {
        "id": "a9qYofDwvGpS"
      },
      "outputs": [],
      "source": [
        "from warnings import warn\n",
        "from os import path\n",
        "import json\n",
        "\n",
        "\n",
        "class Substitution:\n",
        "    def __init__(self, local_path, language=\"en\"):\n",
        "        file_path = path.join(local_path, language, \"substitutions.json\")\n",
        "        try:\n",
        "            with open(file_path, encoding=\"utf-8\") as f:\n",
        "                self.substitutions = json.load(f)\n",
        "        except FileNotFoundError:\n",
        "            warn(\"substitution for language `{}` not Implemented\".format(language),\n",
        "                 ResourceWarning)\n",
        "            self.substitutions = {}\n",
        "        if not isinstance(self.substitutions, dict):\n",
        "            raise TypeError(\"Expected dictionary `{}` in but found {}\".format(\n",
        "                file_path, type(self.substitutions)))\n",
        "\n",
        "    def __getattr__(self, item):\n",
        "        try:\n",
        "            return self.substitutions[item]\n",
        "        except KeyError:\n",
        "            warn(\"substitutions does not have {}\".format(item), Warning)\n",
        "        return {}"
      ]
    }
  ]
}