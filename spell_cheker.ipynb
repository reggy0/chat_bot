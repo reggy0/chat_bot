{
  "nbformat": 4,
  "nbformat_minor": 0,
  "metadata": {
    "colab": {
      "name": "spell_cheker.ipynb",
      "provenance": [],
      "mount_file_id": "1rmpWOpuovnw6Hui3H2kyLJ220MfYqojy",
      "authorship_tag": "ABX9TyOuHrrb62jGsdDt6vDWUzaY",
      "include_colab_link": true
    },
    "kernelspec": {
      "name": "python3",
      "display_name": "Python 3"
    },
    "language_info": {
      "name": "python"
    }
  },
  "cells": [
    {
      "cell_type": "markdown",
      "metadata": {
        "id": "view-in-github",
        "colab_type": "text"
      },
      "source": [
        "<a href=\"https://colab.research.google.com/github/reggy0/chat_bot/blob/main/spell_cheker.ipynb\" target=\"_parent\"><img src=\"https://colab.research.google.com/assets/colab-badge.svg\" alt=\"Open In Colab\"/></a>"
      ]
    },
    {
      "cell_type": "code",
      "execution_count": null,
      "metadata": {
        "id": "_TQj-GrJtt3G"
      },
      "outputs": [],
      "source": [
        "import re\n",
        "from os import path\n",
        "from collections import Counter\n",
        "from warnings import warn\n",
        "\n",
        "\n",
        "class SpellChecker:\n",
        "\n",
        "    def __init__(self, local_path, language='en'):\n",
        "        try:\n",
        "            self.WORDS = Counter(self.words(open(path.join(\n",
        "                local_path, language, \"words.txt\"), encoding='utf-8').read()))\n",
        "        except FileNotFoundError:\n",
        "            warn(\"words.txt for language `{}` not found in `{}`\".format(language, local_path),\n",
        "                 ResourceWarning)\n",
        "            self.WORDS = Counter()\n",
        "        self.total_word_count = sum(self.WORDS.values())\n",
        "        if self.total_word_count == 0:\n",
        "            self.total_word_count = 1\n",
        "\n",
        "    @staticmethod\n",
        "    def words(text):\n",
        "        return re.findall(r'\\w+', text.lower())\n",
        "\n",
        "    def correction(self, text, min_word_length=4):\n",
        "        \"\"\"\n",
        "        Spell correction based on Most probable spelling correction for word.\n",
        "        :param text: str\n",
        "        :param min_word_length: word length\n",
        "        :return: str\n",
        "        \"\"\"\n",
        "        return \" \".join(i if len(i) < min_word_l noength or self.WORDS[i]\n",
        "                        else max(self.candidates(i), key=self.probability)\n",
        "                        for i in text.split())\n",
        "\n",
        "    def probability(self, word):\n",
        "        \"\"\"\n",
        "        Probability of `word`.\n",
        "        :param word:\n",
        "        :return: float\n",
        "        \"\"\"\n",
        "        return self.WORDS[word] / self.total_word_count\n",
        "\n",
        "    def candidates(self, word):\n",
        "        \"\"\"\n",
        "        Generate possible spelling corrections for word.\n",
        "        :param word: str\n",
        "        :return: set of known words\n",
        "        \"\"\"\n",
        "        return (self.known([word]) or self.known(self.edits1(word)) or\n",
        "                self.known(self.edits2(word)) or [word])\n",
        "\n",
        "    def known(self, words):\n",
        "        \"\"\"\n",
        "        The subset of `words` that appear in the dictionary of WORDS.\n",
        "        :param words: list of str\n",
        "        :return: unique set of words\n",
        "        \"\"\"\n",
        "        return {w for w in words if w in self.WORDS}\n",
        "\n",
        "    @staticmethod\n",
        "    def edits1(word):\n",
        "        \"\"\"\n",
        "        All edits that are one edit away from `word`.\n",
        "        :param word: String\n",
        "        :return: set of words\n",
        "        \"\"\"\n",
        "        letters = 'abcdefghijklmnopqrstuvwxyz'\n",
        "        splits = [(word[:i], word[i:]) for i in range(len(word) + 1)]\n",
        "        deletes = [L + R[1:] for L, R in splits if R]\n",
        "        transposes = [L + R[1] + R[0] + R[2:] for L, R in splits if len(R) > 1]\n",
        "        replaces = [L + c + R[1:] for L, R in splits if R for c in letters]\n",
        "        inserts = [L + c + R for L, R in splits for c in letters]\n",
        "        return set(deletes + transposes + replaces + inserts)\n",
        "\n",
        "    def edits2(self, word):\n",
        "        \"\"\"\n",
        "        All edits that are two edits away from `word`.\n",
        "        :param word: string\n",
        "        :return: string generator\n",
        "        \"\"\"\n",
        "        return (e2 for e1 in self.edits1(word) for e2 in self.edits1(e1))"
      ]
    }
  ]
}